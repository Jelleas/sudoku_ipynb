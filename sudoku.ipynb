{
 "cells": [
  {
   "cell_type": "markdown",
   "metadata": {},
   "source": [
    "# Sudoku Solver\n",
    "Behalve programma's ontwikkelen voor eindgebruikers kunnen we programmeren ook inzetten om problemen / puzzels op te lossen. Een klassiek voorbeeld hiervan is een sudoku solver.\n",
    "\n",
    "Sudoku's zijn je waarschijnlijk wel bekend. Ze zien er zo uit:\n",
    "\n",
    "![](sudoku_example.png)\n",
    "\n",
    "Een grid met 9x9 vakjes. In elk vakje moet uiteindelijk een getal tussen de 1 t/m 9 komen te staan. Maar, er zijn drie restricties:\n",
    "\n",
    "* elke horizontale rij mag maar één van elk getal bevatten\n",
    "* elke verticale kolom mag maar één van elk getal bevatten\n",
    "* elk 3x3 blok mag maar één van elk getal bevatten (zie ook de donkere lijnen op het grid)\n",
    "\n",
    "## What to do\n",
    "* Implementeer een regelgebaseerde solver\n",
    "* Implementeer een iteratieve DFS solver\n",
    "* Implementeer een recursieve DFS solver\n",
    "* (Hacker) Implementeer een interatieve DFS solver met Python generators\n",
    "* Genereer \"proper sudoku's\""
   ]
  },
  {
   "cell_type": "markdown",
   "metadata": {},
   "source": [
    "## Om te beginnen\n",
    "Je hebt twee mapjes: `easy` en `hard`. Met daarin, je raadt het al, makkelijke en moeilijke sudoku's. In het zelfverzonnen `.sudoku` bestandstype. Een `.sudoku` ziet er zo uit:\n",
    "\n",
    "    7,9,0,0,0,0,3,0,1\n",
    "    0,0,0,0,0,6,9,0,0\n",
    "    8,0,0,0,3,0,0,7,6\n",
    "    0,0,0,0,0,5,0,0,2\n",
    "    0,0,5,4,1,8,7,0,0\n",
    "    4,0,0,7,0,0,0,0,0\n",
    "    6,1,0,0,9,0,0,0,8\n",
    "    0,0,2,3,0,0,0,0,0\n",
    "    0,0,9,0,0,0,0,5,4\n",
    "\n",
    "Waarin er op elke regel 9 cijfers staan. Een 0 staat voor een leeg vakje, en elk ander cijfer voor een ingevuld vakje met dat cijfer.\n",
    "\n",
    "## Regelgebaseerde solver\n",
    "Er zijn ontzettend [veel strategieën](http://www.sudokudragon.com/sudokustrategy.htm) om een sudoku puzzel op te lossen. Een simpele aanpak is via  de \"Single possibility rule\" die luidt als volgt: Als er maar één mogelijkheid over is voor een vakje, dan moet je deze invullen. Deze regel is ontzettend handig! Want zodra je dat vakje invult, kan het zomaar zijn dat er maar één optie overblijft voor een ander vakje. Die kun je vervolgens ook weer invullen. Typisch bij het oplossen van een Sudoku zul je merken dat je tegen het einde d.m.v. deze regel een heel hoop vakjes kan invullen.\n",
    "\n",
    "Jij gaat straks een oplosser maken op basis van de \"single possibility rule\". Door het continue toepassen van de regel totdat de sudoku is opgelost. In psuedocode:\n",
    "\n",
    "    while sudoku is not solved\n",
    "        for every tile in sudoku\n",
    "            if tile is empty and there is just one possibility\n",
    "                fill in tile\n",
    "\n",
    "Niet alle sudoku's zijn op deze manier op te lossen, zeker niet die sudoku's die wij als `hard` bestempelen. Maar, de `easy` puzzels kan je d.m.v. dit algoritme wel oplossen."
   ]
  },
  {
   "cell_type": "markdown",
   "metadata": {},
   "source": [
    "### Stap 1: Sudoku's inladen\n",
    "Implementeer allereerst de `load()` functie hieronder. Deze functie accepteert een `filename` als argument en geeft de ingeladen sudoku terug. Een sudoku representeer je simpelweg met een lijst van lijsten, een 2D lijst."
   ]
  },
  {
   "cell_type": "code",
   "execution_count": 14,
   "metadata": {},
   "outputs": [],
   "source": [
    "def load(filename):\n",
    "    # TODO\n",
    "    return [] # <- remove"
   ]
  },
  {
   "cell_type": "markdown",
   "metadata": {},
   "source": [
    "### Stap 2: Sudoku's printen\n",
    "Het is handig om makkelijk inzicht te kunnen krijgen in wat je aan het programmeren bent. Daarom is nu een goed moment om  de `show()` functie te implementeren. De `show()` functie moet straks een sudoku als volgt uitprinten:\n",
    "\n",
    "\n",
    "    >>> from solver import load, show\n",
    "    >>> show(load(\"easy/puzzle1.sudoku\"))\n",
    "    7 9 _   _ _ _   3 _ 1\n",
    "    _ _ _   _ _ 6   9 _ _\n",
    "    8 _ _   _ 3 _   _ 7 6\n",
    "\n",
    "    _ _ _   _ _ 5   _ _ 2\n",
    "    _ _ 5   4 1 8   7 _ _\n",
    "    4 _ _   7 _ _   _ _ _\n",
    "\n",
    "    6 1 _   _ 9 _   _ _ 8\n",
    "    _ _ 2   3 _ _   _ _ _\n",
    "    _ _ 9   _ _ _   _ 5 4\n",
    "\n",
    "Let op de details:\n",
    "\n",
    "  - Eén spatie tussen elk vakje\n",
    "  - Drie spaties tussen de blokken (horizontaal)\n",
    "  - Eén witregel tussen de blokken (verticaal)\n",
    "  - Voor de lege plekken print je een `_`\n",
    "  \n",
    "Implementeer nu de `show()` functie hieronder."
   ]
  },
  {
   "cell_type": "code",
   "execution_count": 15,
   "metadata": {},
   "outputs": [],
   "source": [
    "def show(sudoku):\n",
    "    # TODO\n",
    "    pass"
   ]
  },
  {
   "cell_type": "markdown",
   "metadata": {},
   "source": [
    "### Stap 3: Candidates\n",
    "Om de Single Possibility Rule toe te passen moet je allereerst kunnen bepalen wat voor kandidaten er zijn in een leeg vakje. In een vakje kunnen de cijfers 1 t/m 9 worden ingevuld, behalve als één van die cijfers al voorkomt in de kolom/rij/blok. Ofwel de kandidaten op een vakje x,y zijn:\n",
    "\n",
    "    candidates(x,y) = 1..9 - numbers_row - numbers_col - numbers_block\n",
    "\n",
    "Implementeer de functie `candidates()` als volgt:\n",
    "\n",
    "    >>> from sudoku import candidates, load\n",
    "    >>> candidates(load(\"easy/puzzle1.sudoku\"), 1, 1)\n",
    "    {2, 3, 4, 5}\n",
    "\n",
    "> Tip: maak gebruik van `set`s!"
   ]
  },
  {
   "cell_type": "code",
   "execution_count": 16,
   "metadata": {},
   "outputs": [],
   "source": [
    "def candidates(sudoku, x, y):\n",
    "    # TODO\n",
    "    return [] # <- remove"
   ]
  },
  {
   "cell_type": "markdown",
   "metadata": {},
   "source": [
    "### Stap 4: Oplossen d.m.v. Single Possibility Rule\n",
    "Nu je een sudoku kan inladen, en kan bepalen welke kandidaten er zijn op elk vakje van het bord, kun je een oplosser maken die d.m.v. de Single Possibility Rule de sudoku oplost. Hieronder nogmaals de pseudocode:\n",
    "\n",
    "    while sudoku is not solved\n",
    "        for every tile in sudoku\n",
    "            if tile is empty and there is just one possibility\n",
    "                fill in tile\n",
    "\n",
    "Implementeer nu `solve_rule` hieronder.\n",
    "\n",
    "> Als `solve_rule()` de gegeven sudoku niet kan oplossen, vul dan zoveel mogelijk in en `return` het resultaat. Voorkom een infinite loop!\n"
   ]
  },
  {
   "cell_type": "code",
   "execution_count": 17,
   "metadata": {},
   "outputs": [],
   "source": [
    "def solve_rule(sudoku):\n",
    "    # TODO\n",
    "    return [] # <- remove"
   ]
  },
  {
   "cell_type": "markdown",
   "metadata": {},
   "source": [
    "Hieronder staat een stukje code dat jouw implementatie van `solve_rule` timed. Zo kan je meten hoe lang het duurt om een puzzel op te lossen. Dit gebeurt door middel van de `%%timeit` magic, zie ook [de documentatie](http://ipython.readthedocs.io/en/stable/interactive/magics.html#magic-timeit). Dit zijn magische commando's in IPython en Jupyter notebook om bepaalde dingen voor je te doen, zoals het timen van code. \n",
    "\n",
    "Eerst wordt `sudoku = load(\"easy/puzzle1.sudoku\")` uitgevoerd, dit wordt niet gemeten omdat het op dezelfde regel staat als de `%%timeit` magic. Vervolgens wordt de executie van `solve_rule(sudoku)` gemeten door deze een flink aantal keer uit te voeren, zodat het totaal ongeveer 2 seconden duurt. Dit is nodig omdat de executie tijd van een stukje code afhangt van veel verschillende dingen op je computer, o.a. bijvoorbeeld of andere processen zoals bijvoorbeeld je webbrowser of virusscanner ook ineens cpu tijd opeten tijdens het uitvoeren van jouw code. "
   ]
  },
  {
   "cell_type": "code",
   "execution_count": 28,
   "metadata": {},
   "outputs": [
    {
     "name": "stdout",
     "output_type": "stream",
     "text": [
      "105 ns ± 1.09 ns per loop (mean ± std. dev. of 7 runs, 10000000 loops each)\n"
     ]
    }
   ],
   "source": [
    "%%timeit sudoku = load(\"easy/puzzle1.sudoku\")\n",
    "solve_rule(sudoku)"
   ]
  },
  {
   "cell_type": "markdown",
   "metadata": {},
   "source": [
    "\n",
    "# DFS solvers\n",
    "Op basis van de simpele regelgebaseerde oplosser kunnen we niet alle sudoku puzzels oplossen. Je zou ervoor kunnen kiezen om meer regels/strategieën te implementeren, en zo meer puzzels aan te kunnen. Er zijn echter bijzonder veel verschillende soorten sudoku's en strategieën.\n",
    "\n",
    "Het goede nieuws is, we hebben een computer tot onze beschikking die ontzettend snel kan rekenen. We zouden dus ook  ongeïnformeerd kunnen gaan zoeken naar een oplossing. Ofwel, gewoon getallen invullen, en kijken of het leidt naar een oplossing. Er zijn verschillende manieren om zo te zoeken. Je zou een sudoku kunnen pakken, en naar willekeur getallen invullen tot je of op een oplossing komt, of niet. Dan begin je gewoon opnieuw, totdat je uiteindelijk een oplossing tegenkomt. Deze manier van zoeken is puur willekeurig, maar als we heel snel kunnen \"gokken\" en controleren of iets een oplossing is, dan werkt het wel.\n",
    "\n",
    "We kunnen ook gestructureerder aan de slag gaan. In plaats van willekeurig getallen in te vullen, kunnen we kijken welke getallen we in elk vakje kunnen invullen, en vervolgens al deze getallen één voor één invullen. Dan zijn er twee klassieke ongeïnformeerde zoekalgoritmes vanuit de literatuur: Breadth-First Search en Depth-First Search. Beide zijn zoekalgoritmes die op een bepaalde volgorde zoeken naar een oplossing.\n",
    "\n",
    "Voor dit probleem focussen we ons op Depth-First Search. De naam verklapt het al een beetje, Depth-First Search duikt eerst de diepte in. Hoe moet je dit voor je zien? Stel je voor, je hebt een Sudoku puzzel en op plek `(x, y) = (1, 1)` heb je drie kandidaten `(1, 4, 8)`. Depth-First Search kiest voor de eerste kandidaat `1`, en gaat vervolgens verder op het volgende lege vakje, zeg `(x, y) = (1, 2)`. Daar wordt vervolgens ook voor de eerste kandidaat gekozen, enzovoort. Uiteindelijk kunnen er twee dingen gebeuren: Of de sudoku puzzel is opgelost, of je komt een leeg vakje tegen waar je geen kandidaten voor hebt. Het kan namelijk zo maar zijn dat een eerdere keuze, zoals zet `1` op `(x, y) = (1, 1)` er toe leidt dat je later vast komt te zitten. Zodra er geen kandidaten meer zijn voor een leeg vakje doet het Depth-First Search algoritme een stapje terug, en herziet de laatst gemaakte keuze. Is er geen andere keuze die gemaakt kan worden? Dan nog een stapje terug. Uiteindelijk ziet de zoekvolgorde er zo uit:\n",
    "\n",
    "![](depth_first.png)\n",
    "\n",
    "In het plaatje hierboven is elk rondje een sudoku bord, elke verbinding een keuze voor het invullen van het eerstvolgende lege vakje, en elke laag representeert het aantal gemaakte zetten. De getallen representeren de volgorde van het zoeken. We gaan van een sudoku bord (`1`) naar sudoku bord (`2`) naar (`3`) en uiteindelijk (`4`). Bij (`4`) zitten we vast met een leeg vakje zonder kandidaten, dus we doen een stap terug naar (`3`) en vervolgens naar (`5`).\n"
   ]
  },
  {
   "cell_type": "markdown",
   "metadata": {},
   "source": [
    "### Stap 1: Iterative DFS solver\n",
    "Hoe programmeer je nu een DFS algoritme? DFS is een bekend algoritme, en ook goed gedocumenteerd in psuedocode. Dus niet code die je direct kan uitvoeren, maar een beschrijving zodat je er snel code van kan maken. Zie hier psuedocode voor een iteratieve implementatie van DFS:\n",
    "\n",
    "    1  function DFS-iterative(V)\n",
    "    2      let S be a stack\n",
    "    3      S.push(V)\n",
    "    4      while S is not empty\n",
    "    5          V = S.pop()\n",
    "    6          for all candidates C from V do\n",
    "    7              let W be a copy of V\n",
    "    8              apply C to W\n",
    "    9              if W is a solution do\n",
    "    10                 return W\n",
    "    11             S.push(W)\n",
    "\n",
    "Dit is een iteratieve implementatie, dat houdt in dat deze implementatie geen gebruik maakt van recursie.\n",
    "\n",
    "In de pseudocode zie je de term `stack` en verschillende operaties op een stack, namelijk `push` en `pop`. Een `stack` is een zogenaamde Abstract Datatype. Een Datatype waarbij we niet zozeer geïnteresseerd zijn in hoe deze is geïmplementeerd, maar enkel in de operaties die we daarop kunnen doen. Zo is bijvoorbeeld een `list` een Python ook een Abstract Datatype. Het maakt voor jou als programmeur niet uit hoe deze er achter de schermen uitziet, hoe uiteindelijk de 1-en en 0-en gebruikt worden. Zolang jij maar weet hoe dit datatype werkt, en wat je ermee kan (zoals elementen toevoegen, verwijderen etc.).\n",
    "Een `stack` is dus een Abstract Datatype, maar wat is het? Een `stack` in het Nederlands is simpelweg een stapel. Het klassieke voorbeeld is een stapel borden. Je zet een nieuw bord bovenop de stapel, en als je een bord nodig hebt, pak je deze van boven de stapel weg. Dat is alles wat met een stack bedoelt wordt. Je kan elementen (borden) bovenop toevoegen (d.m.v. `push`), en van boven weer weghalen (d.m.v. `pop`). Maar een `stack` bestaat standaard niet in Python. Gelukkig kan je deze wel heel makkelijk implementeren, of minder formeel gezegd: we kunnen een lijst gebruiken om een stack voor te stellen. Kijk maar:\n",
    "\n",
    "    Let S be a stack   =>   S = []\n",
    "    S.push(V)          =>   S.append(V)\n",
    "    V = S.pop()        =>   V = S.pop()\n",
    "\n",
    "De methode `.pop()` bestaat dus al voor een lijst in Python, en we kunnen simpelweg `.append()` gebruiken voor `.push()`. Et voila, we hebben een stack!\n",
    "\n",
    "Nu is het aan jou om op basis van de bovenstaande pseudocode, de functie `solve_dfs_it` hieronder te implementeren.\n",
    "\n",
    "Je hoeft niet de variabele namen in de pseudocode aan te houden, het is beter als je deze vervangt door duidelijkere, descriptievere namen.\n",
    "\n",
    "Voor regel 8 in de pseudocode moet je een kopie aanmaken, hiervoor kun je `deepcopy()` gebruiken, als volgt:\n",
    "\n",
    "    from copy import deepcopy\n",
    "    V = []\n",
    "    W = deepcopy(V)\n",
    "    W.append(1)\n",
    "    print(V)\n",
    "    print(W)\n",
    "\n",
    "De functie `deepcopy()` maakt een kopie van wat je meegeeft als argument. Een diepe kopie, oftewel als je een twee dimensionale lijst meegeeft om te kopieren, dan worden alle lijsten in de buitenste lijst ook gekopieerd.\n"
   ]
  },
  {
   "cell_type": "code",
   "execution_count": 18,
   "metadata": {},
   "outputs": [],
   "source": [
    "from copy import deepcopy\n",
    "\n",
    "def solve_dfs_it(sudoku):\n",
    "    # TODO\n",
    "    return [] # <- remove"
   ]
  },
  {
   "cell_type": "code",
   "execution_count": 29,
   "metadata": {},
   "outputs": [
    {
     "name": "stdout",
     "output_type": "stream",
     "text": [
      "101 ns ± 0.942 ns per loop (mean ± std. dev. of 7 runs, 10000000 loops each)\n"
     ]
    }
   ],
   "source": [
    "%%timeit sudoku = load(\"easy/puzzle1.sudoku\")\n",
    "solve_dfs_it(sudoku)"
   ]
  },
  {
   "cell_type": "markdown",
   "metadata": {},
   "source": [
    "### Stap 2: recursive DFS solver\n",
    "DFS kan je op meerdere manieren implementeren, zo heb je daarnet DFS op een iteratieve manier geïmplementeerd. Daar kleven wat nadelen aan, zo moet er telkens weer een kopie gemaakt worden van de hele sudoku. Dat kost behoorlijk veel tijd, maar ook geheugen. Terwijl dit continue kopieren eigenlijk helemaal geen logische stap is bij het oplossen van een sudoku. Je zou in theorie met 1 sudoku uit de voeten kunnen, en deze met potlood invullen, en uitgummen als je ergens een foute keuze maakt.\n",
    "\n",
    "Om dit idee voor elkaar te krijgen, kunnen we DFS implementeren d.m.v. recursie. Een functie die zichzelf aanroept. Door aan deze functie continue één sudoku mee te geven, hierop getallen in te vullen, en mogelijk ook weer uit te gummen, kunnen we DFS implementeren. In pseudocode ziet dit er zo uit:\n",
    "\n",
    "    1  function DFS-recursive(V)\n",
    "    2      if V is solved\n",
    "    3          return\n",
    "    4      \n",
    "    5      for all candidates C from V do\n",
    "    6          apply C to V\n",
    "    7          DFS-recursive(V)\n",
    "    8          if V is solved\n",
    "    9              return V\n",
    "    10         undo C to V\n",
    "\n",
    "Laten we even goed kijken hoe dit in elkaar steekt. Allereerst zie je een if-statement op regel 2, deze zou je typisch de basecase noemen. Het basisgeval wanneer je weet dat je kan stoppen, namelijk de puzzel is opgelost. Deze basecase is ontzettend belangrijk, want anders zou deze functie zichzelf (potentieel) oneindig vaak aanroepen!\n",
    "\n",
    "Op regel 5 staat de for-loop die je ook kent vanuit de iteratieve aanpak. In de body van deze loop werkt deze implementatie net even anders. Regel 6 is de potlood stap, hier wordt een vakje ingevuld. Regel 7 is de recursieve stap, hier roept de functie zichzelf aan, maar dit keer met een sudoku met één extra vakje ingevuld. De uitkomst kan zijn dat `V` nu is opgelost of niet. Regel 8 checkt hierop, is de sudoku `V` nu opgelost, dan zijn we klaar. Regel 10 is de gum stap, hier wordt het met potlood ingevulde vakje van regel 6 uitgegumt.\n",
    "\n",
    "Implementeer nu een recursieve implementatie van DFS in `solve_dfs_rec` hieronder.\n"
   ]
  },
  {
   "cell_type": "code",
   "execution_count": 19,
   "metadata": {},
   "outputs": [],
   "source": [
    "def solve_dfs_rec(sudoku):\n",
    "    # TODO\n",
    "    return [] # <- remove"
   ]
  },
  {
   "cell_type": "code",
   "execution_count": 27,
   "metadata": {},
   "outputs": [
    {
     "name": "stdout",
     "output_type": "stream",
     "text": [
      "100 ns ± 0.815 ns per loop (mean ± std. dev. of 7 runs, 10000000 loops each)\n"
     ]
    }
   ],
   "source": [
    "%%timeit sudoku = load(\"easy/puzzle1.sudoku\")\n",
    "solve_dfs_rec(sudoku)"
   ]
  },
  {
   "cell_type": "markdown",
   "metadata": {},
   "source": [
    "# Sudoku's genereren\n",
    "Behalven het oplossen van sudoku's heb je ook het tegenovergestelde probleem, het genereren van sudoku's. Een probleem wat verschillende kranten, puzzelboekjes en sudoku apps hebben. Een goede sudoku puzzel is een zogenaamde proper sudoku, dat is een sudoku met precies 1 oplossing. Deze genereren is nog niet zo simpel. Gelukkig heb jij nu een snelle sudoku solver en kan je deze inzetten om proper sudoku's te genereren.\n",
    "\n",
    "Implementeer de functie `generate_sudoku()` hieronder die, wanneer aangeroepen, een proper sudoku teruggeeft. Dat is een sudoku met maar 1 oplossing."
   ]
  },
  {
   "cell_type": "code",
   "execution_count": 21,
   "metadata": {},
   "outputs": [],
   "source": [
    "def generate_sudoku():\n",
    "    # TODO\n",
    "    return [] # <- remove"
   ]
  },
  {
   "cell_type": "markdown",
   "metadata": {},
   "source": [
    "# For those more comfortable: Iterative DFS solver with generators\n",
    "Recursie heeft zo zijn nadelen. Het is o.a. wat lastig om je hoofd eromheen te krijgen en te debuggen. Hetzelfde idee, werken met maar één sudoku en geen kopieën maken, kunnen we ook iteratief toepassen. Python kent het concept `generator`s. Dat zijn functies met een soort tijdelijk `return` genaamd `yield`. Deze functies produceren een zogenaamde `iterator`, dat is een object waarover je kan itereren.\n",
    "\n",
    "Laten we allereerst even inzoomen op het concept `iterator`. Dit is het makkelijkst te begrijpen vanuit het volgende probleem: Stel je voor, het is 1992 en je bent een programmeertaal genaamd Python aan het ontwerpen. Je kiest ervoor om verschillende datastructuren in de taal te bouwen, `list`s, `tuple`s, `dict`s, etc. Ook kies je ervoor om de `for`-loop direct over deze datastructuren te laten itereren:\n",
    "\n",
    "    X = <some_datastructure>\n",
    "    for elem in X:\n",
    "        <do_something>\n",
    "\n",
    "Hoe kan je ervoor zorgen dat die for-loop met elk mogelijke datastructuur overweg kan, terwijl een `dict` bijvoorbeeld heel anders in elkaar steekt dan een `list`. Het liefst ook nog zo dat we een for-loop kunnen gebruiken voor eventuele nieuwe datastructuren.\n",
    "De oplossing is hier om `iterator`s te introduceren: de `for`-loop werkt alleen op zogenaamde `iterator`s, en niks anders. Hetgene wat een `for`-loop doet is de zogenaamde `iter()` functie aan te roepen op elke datastructuur, welke een `iterator` teruggeeft voor die datastructuur. Een `iterator` is niks meer dan iets met een `next()` functie, die puur de volgende in de verzameling teruggeeft. In praktijk ziet dit er zo uit:\n",
    "\n",
    "    >>> it = iter([1,2])\n",
    "    >>> next(it)\n",
    "    1\n",
    "    >>> next(it)\n",
    "    2\n",
    "    >>> next(it)\n",
    "    Traceback (most recent call last):\n",
    "      File \"<stdin>\", line 1, in <module>\n",
    "    StopIteration\n",
    "    >>> it = iter({10:20, 30:40})\n",
    "    >>> next(it)\n",
    "    10\n",
    "    >>> next(it)\n",
    "    30\n",
    "    >>> next(it)\n",
    "    Traceback (most recent call last):\n",
    "      File \"<stdin>\", line 1, in <module>\n",
    "    StopIteration\n",
    "    >>>\n",
    "\n",
    "Die `next` functie op een iterator doet dus één van twee dingen, of de volgende item in de verzameling, of de `StopIteration` exception opgooien. Op basis van dit patroon werkt een `for`-loop in Python.\n",
    "\n",
    "`generator`s zijn functies die zo'n `iterator` produceren. Python heeft hier hele handige syntax voor door middel van het keyword `yield`. Eigenlijk een soort tijdelijk return. In actie:\n",
    "\n",
    "    def func():\n",
    "        i = 0\n",
    "        while i < 5:\n",
    "            yield i\n",
    "            i += 1\n",
    "\n",
    "    it = func()\n",
    "    print(next(it)) # prints 0\n",
    "    print(next(it)) # prints 1\n",
    "    print(next(it)) # prints 2\n",
    "\n",
    "Dit is een ontzettend handig op verschillende manieren. Zo hoef je niet alle getallen, in dit voorbeeld t/m 5, in één klap aan te maken en te onthouden in iets als een lijst. In plaats daarvan genereer je maar 1 getal per keer. Scheelt bijvoorbeeld geheugen! In sommige gevallen ook tijd, want stel je voor dat je wilt stoppen nadat je een bepaald antwoord hebt gevonden:\n",
    "\n",
    "    def fib():\n",
    "        a = 1\n",
    "        b = 1\n",
    "        while True:\n",
    "            yield a\n",
    "            a, b = b, a + b\n",
    "\n",
    "    for n in fib():\n",
    "      if n > 1000:\n",
    "        print(n)\n",
    "        break\n",
    "\n",
    "Dit stukje code hierboven vindt het eerste getal in de [fibonacci rij](https://nl.wikipedia.org/wiki/Rij_van_Fibonacci) dat groter is dan 1000. In het stukje code hierboven stelt de functie `fib()` eigenlijk de oneindige rij getallen van fibonacci voor. Je zou in theorie de hele rij kunnen aflopen als je de `break` statement weghaalt. Natuurlijk heb je niet oneindig de tijd, dus houdt ctrl+c in de aanslag!\n",
    "\n",
    "`generator`s geven jou als programmeur een handvat om via functies (oneindige) verzamelingen voor te stellen. Zonder dat je alle elementen van te voren moet aanmaken en in het geheugen hoeft op te slaan. De elementen die de generator produceert worden pas aangemaakt wanneer je ze nodig hebt, zoals bij het voorbeeld van fibonacci. Dit heet [lazy evaluation](https://en.wikipedia.org/wiki/Lazy_evaluation) in de informatica. Je evalueert pas zodra het echt moet. Zo ga je niet het 1 miljoenste fibonacci getal berekenen als je bij de 20ste al kan stoppen.\n",
    "\n",
    "Wat heeft dit nu allemaal met DFS en Sudoku's te maken? Door `generator`s kunnen we verschillende voordelen van de iteratieve en recursieve aanpak combineren. Een oplossing die makkelijk te begrijpen is, en ook nog is razendsnel en zuinig met geheugen. In plaats van zoals bij de iteratieve aanpak Sudoku's op de stack te bewaren, bewaren we nu generators.\n",
    "\n",
    "    TODO: plaatje.\n",
    "\n",
    " Zie hier de pseudocode:\n",
    "\n",
    "    1  function gen(V):\n",
    "    2      for all candidates C from V do\n",
    "    3          apply C to V\n",
    "    4          yield V\n",
    "    5          undo C to V\n",
    "    6  \n",
    "    7  function DFS-gen(V)\n",
    "    8      let S be a stack\n",
    "    9      S.push(gen(V))\n",
    "    10     while S is not empty\n",
    "    11         if S.peek() is empty do\n",
    "    12             S.pop()\n",
    "    13         else do\n",
    "    14             let V be next from S.peek()\n",
    "    15             if V is solution do\n",
    "    16                 return V\n",
    "    17             S.push(gen(V))\n",
    "\n",
    "De `peek()` methode van een stack is hetzelfde als `pop()`, met het subtiele verschil dat deze het element niet verwijdert van de stack. Je kijkt, \"peeked\", alleen naar het bovenste element op de stapel. Gebruik je in Python een `list` als implementatie voor een stack dan kan je `stack[-1]` gebruiken!\n",
    "\n",
    "`iterator`s in Python bieden geen optie om te kijken of deze leeg zijn, niks meer hebben om over te itereren. Je zult daarom voor [vergeving moeten vragen i.p.v. toestemming](https://docs.quantifiedcode.com/python-anti-patterns/readability/asking_for_permission_instead_of_forgiveness_when_working_with_files.html). Concreet:\n",
    "\n",
    "    try:\n",
    "        next(some_iterator)\n",
    "    except StopIteration:\n",
    "        # do something else\n",
    "        pass\n",
    "\n",
    "Implementeer `solve_dfs_gen` hieronder."
   ]
  },
  {
   "cell_type": "code",
   "execution_count": 22,
   "metadata": {},
   "outputs": [],
   "source": [
    "def solve_dfs_gen(sudoku):\n",
    "    # TODO\n",
    "    return [] # <- remove"
   ]
  },
  {
   "cell_type": "code",
   "execution_count": 30,
   "metadata": {},
   "outputs": [
    {
     "name": "stdout",
     "output_type": "stream",
     "text": [
      "101 ns ± 0.898 ns per loop (mean ± std. dev. of 7 runs, 10000000 loops each)\n"
     ]
    }
   ],
   "source": [
    "%%timeit sudoku = load(\"easy/puzzle1.sudoku\")\n",
    "solve_dfs_gen(sudoku)"
   ]
  },
  {
   "cell_type": "markdown",
   "metadata": {},
   "source": [
    "# For those more comfortable: Moeilijke sudoku's genereren\n",
    "Er is een groot verschil in de moeilijkheid van poper sudoku's. Zo zijn alle 6 meegeleverde sudoku's proper, maar sommige zijn duidelijk moeilijker. Zo kan je de eerste 3 oplossen door simpelweg één regel continue toe te passen, en moet je bij de laatste 3 keuzes maken.\n",
    "\n",
    "Nu is er veel onderzoek gedaan naar sudoku's, o.a. naar het klassificeren van moeilijkheid van een sudoku. Zo vind je o.a. de [paper van Radek Pel´anek](https://arxiv.org/pdf/1403.7373.pdf). Radek gaat specifiek in op voor mensen moeilijke puzzels. Hij claimt dat \"Humans are not good at performing systematic search, and they are not willing to do so.\". In plaats daarvan prefereren mensen logische technieken, en daarbinnen preferen mensen simpele aanpakken. In dit paper beschrijft Radek zijn Simple Sudoku Solver (SiSuS) model op basis van twee even moeilijke technieken:\n",
    "\n",
    "  1. Naked single technique (also called singleton, single value, forced value, exclusion principle): For a given cell there is only one value that can go into the cell, because all other values occur in row, column or sub-grid of the cell (any other number would lead to a direct violation of rules).\n",
    "  2. Hidden single technique (also called naked value, inclusion principle): For a given unit (row, column or sub-grid) there exists only one cell which can contain a given value (all other placements would lead to a direct violation of rules).\n",
    "\n",
    "De moeilijkheid van de puzzel is de som van de moeilijkheid van de vakjes in SiSuS. De moeilijkheid van een vakje wordt als volgt bepaalt: is een vakje invulbaar d.m.v. het herhaaldelijk toepassen van de twee technieken, dan is de score van het vakje 0. Anders doe je de volgende berekening:\n",
    "\n",
    "\"For each wrong candidate value v we denote ref_v the smallest number of simple steps which are necessary to demonstrate the inconsistency of the assignment. The “ideal refutation score” is obtained as a sum of values ref_v. If some of the values is not refutable by simple steps, we set the score to ∞.\n",
    "The computation of ref_v can be done by breadth-first search over possible puzzle states, but it is computationally expensive and anyway the systematic search does not correspond to human behavior. Therefore, we use randomized approach analogical to our main model – instead of computing the smallest number of steps necessary to refute a given value, we just use a randomized sequence of simple steps and count the number of steps needed to reach an inconsistency.\n",
    "The variable (cell) with the lowest score is deemed to be the easiest to fill and the refutation score is used as a difficulty rating of an unknown logic technique. For all our considered Sudoku puzzles there was always at least one cell with finite score; for more complex problems it may be necessary to further specify the model for the case that all refutation scores have value ∞.\"\n",
    "\n",
    "De eerste 3 meegeleverde puzzels hebben op basis van dit model dus een score van 0. Je kan alle vakjes invullen d.m.v. de naked single technique. Wat zijn de scores van de laatste 3 puzzels?\n",
    "\n",
    "Op basis van deze score berekening kun je puzzels maken die moeilijk en makkelijk zijn voor mensen om op te lossen. Ideaal dus voor Sudoku apps, zo kun je mensen echt uitdagen op niveau. Kan jij een puzzel maken die moeilijker is dan de meegeleverde drie hard puzzels?"
   ]
  },
  {
   "cell_type": "code",
   "execution_count": 23,
   "metadata": {},
   "outputs": [],
   "source": [
    "# TODO"
   ]
  }
 ],
 "metadata": {
  "kernelspec": {
   "display_name": "Python 3",
   "language": "python",
   "name": "python3"
  },
  "language_info": {
   "codemirror_mode": {
    "name": "ipython",
    "version": 3
   },
   "file_extension": ".py",
   "mimetype": "text/x-python",
   "name": "python",
   "nbconvert_exporter": "python",
   "pygments_lexer": "ipython3",
   "version": "3.7.0"
  }
 },
 "nbformat": 4,
 "nbformat_minor": 2
}
